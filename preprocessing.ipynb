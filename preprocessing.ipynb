{
  "nbformat": 4,
  "nbformat_minor": 0,
  "metadata": {
    "colab": {
      "name": "preprocessing",
      "provenance": [],
      "authorship_tag": "ABX9TyM/SiV6+0KiF59htRZX1eqG",
      "include_colab_link": true
    },
    "kernelspec": {
      "name": "python3",
      "display_name": "Python 3"
    },
    "language_info": {
      "name": "python"
    }
  },
  "cells": [
    {
      "cell_type": "markdown",
      "metadata": {
        "id": "view-in-github",
        "colab_type": "text"
      },
      "source": [
        "<a href=\"https://colab.research.google.com/github/YuminosukeSato/minddrone/blob/main/preprocessing.ipynb\" target=\"_parent\"><img src=\"https://colab.research.google.com/assets/colab-badge.svg\" alt=\"Open In Colab\"/></a>"
      ]
    },
    {
      "cell_type": "code",
      "execution_count": 8,
      "metadata": {
        "colab": {
          "base_uri": "https://localhost:8080/"
        },
        "id": "Sm95cQX8jlJ0",
        "outputId": "e6f1724a-947f-439b-82e0-8a4452a71557"
      },
      "outputs": [
        {
          "output_type": "stream",
          "name": "stdout",
          "text": [
            "[6. 3. 6. ... 5. 6. 3.]\n"
          ]
        }
      ],
      "source": [
        "import numpy as np\n",
        "import math\n",
        "from sklearn.manifold import TSNE\n",
        "from matplotlib import pyplot\n",
        "import pickle\n",
        "import matplotlib.pyplot as plt\n",
        "from sklearn.feature_extraction.text import TfidfVectorizer\n",
        "from sklearn.model_selection import train_test_split\n",
        "import pandas as pd\n",
        "import torch\n",
        "import torch.nn as nn\n",
        "from torch import optim\n",
        "import torch.nn.functional as F\n",
        "from torch.utils.data import DataLoader\n",
        "from torch.utils.data import TensorDataset\n",
        "def preprocessing(floatArray):\n",
        "    window = np.hamming(125)\n",
        "    w = np.empty(125)\n",
        "    d2 = np.empty((floatArray.shape[0],27*16))\n",
        "    for i in range(floatArray.shape[0]-125):\n",
        "        for j in range(15):\n",
        "            w = np.abs(np.fft.fftn(floatArray[i:i+125,j]*window))\n",
        "            d2[i,27*j:27*j+26] = np.log10(1 + w[4:30])\n",
        "    return d2\n",
        "def labeler(array):\n",
        "  label = np.empty(array.shape[0])\n",
        "  for i in range(array.shape[0]-125):\n",
        "    if i <= 1250:\n",
        "      label[i] = 0 #0 is normal\n",
        "    elif i <= 2500:\n",
        "      label[i] = 1 #1is forward\n",
        "    elif i <= 3750:\n",
        "      label[i] = 2 # 2 is righet\n",
        "    elif i <= 5000:\n",
        "      label[i] = 3\n",
        "    elif i <= 6250:\n",
        "      label[i] = 4\n",
        "    elif i <= 7500:\n",
        "      label[i] = 5\n",
        "    else:\n",
        "      label[i] = 6\n",
        "  return label\n",
        "\n",
        "\n",
        "if __name__ == \"__main__\":\n",
        "    data = np.loadtxt(\"/content/OpenBCI-RAW-2022-02-16_16-37-06.txt\",dtype='str',delimiter=\",\",skiprows=5)\n",
        "    b = data[:,1:17]\n",
        "    floatArray = b.astype(float)\n",
        "    d2 = np.empty((floatArray.shape[0],27*16))\n",
        "    d2 = preprocessing(floatArray)\n",
        "    ts = d2[125*60-1:125*150,:]\n",
        "    label = labeler(ts)\n",
        "    train_data, test_data, train_label, test_label = train_test_split(ts, label, test_size=0.2)\n",
        "    train_x = torch.Tensor(train_data)\n",
        "    test_x = torch.Tensor(test_data)\n",
        "    train_y = torch.LongTensor(train_label)  # torch.int64のデータ型に\n",
        "    test_y = torch.LongTensor(test_label)\n",
        "    train_dataset = TensorDataset(train_x, train_y)\n",
        "    test_dataset = TensorDataset(test_x, test_y)"
      ]
    },
    {
      "cell_type": "code",
      "source": [
        "epochs = 100\n",
        "n_input = 1\n",
        "n_hidden = 10\n",
        "n_output = 1\n",
        "num_layers = 2\n",
        "n_batch = 20\n",
        "n_data = 1000\n",
        "n_test = 200\n"
      ],
      "metadata": {
        "id": "JXWLXvRJOROW"
      },
      "execution_count": 10,
      "outputs": []
    },
    {
      "cell_type": "markdown",
      "source": [
        ""
      ],
      "metadata": {
        "id": "9SBcikGYoX8e"
      }
    },
    {
      "cell_type": "code",
      "source": [
        "import numpy as np\n",
        "import torch\n",
        "import torch.nn as nn\n",
        "import torch.nn.functional as F\n",
        "import math\n",
        "\n",
        "class RNNHardCell(nn.Module):\n",
        "    def __init__(self, n_input:int, n_hidden:int, state=None) -> None:\n",
        "        super(RNNHardCell, self).__init__()\n",
        "        self.n_input = n_input\n",
        "        self.n_hidden = n_hidden\n",
        "        self.in_h = nn.Linear(self.n_input, self.n_hidden, bias=False)\n",
        "        self.h_h = nn.Linear(self.n_hidden, self.n_hidden, bias=False)\n",
        "        self.state = state\n",
        "        self.register_parameter()\n",
        "\n",
        "    def register_parameter(self) -> None:\n",
        "        stdv = 1.0 / math.sqrt(self.n_hidden)\n",
        "        for weight in self.parameters():\n",
        "            nn.init.uniform_(weight, -stdv, stdv)\n",
        "    \n",
        "    def forward(self, x, state=None):\n",
        "        self.state = state\n",
        "        if self.state is None:\n",
        "            self.state = F.hardtanh(self.in_h(x))\n",
        "        else:\n",
        "            self.state = F.hardtanh(self.in_h(x) + self.h_h(self.state))\n",
        "        return self.state\n",
        "\n",
        "class RNNModel(nn.Module):\n",
        "    def __init__(self, n_input, n_hidden, n_output, num_layers=1):\n",
        "        super(RNNModel, self).__init__()\n",
        "        self.rnn = RNNHardCell(n_input, n_hidden)\n",
        "        self.out = nn.Linear(n_hidden, n_output, bias=False)\n",
        "        self.num_layers = num_layers\n",
        "        \n",
        "    def forward(self, xs, state=None):\n",
        "        state = None\n",
        "        h_seq = []\n",
        "        \n",
        "        for x in xs:\n",
        "            x = torch.from_numpy(np.asarray(x)).float()\n",
        "            x = x.unsqueeze(0)\n",
        "            for _ in range(self.num_layers):\n",
        "                state = self.rnn(x, state)\n",
        "            h_seq.append(state)\n",
        "        \n",
        "        h_seq = torch.stack(h_seq)\n",
        "        ys = self.out(h_seq)\n",
        "        ys = torch.transpose(ys, 0, 1)\n",
        "\n",
        "        return ys"
      ],
      "metadata": {
        "id": "E3TBZ66nVUX1"
      },
      "execution_count": 9,
      "outputs": []
    },
    {
      "cell_type": "code",
      "source": [
        "criterion = nn.MSELoss()\n",
        "optimizer = optim.SGD(model.parameters(), lr=0.01)\n",
        "record_loss_train = []\n",
        "for i in range(201):\n",
        "  model.train()\n",
        "  loss_train = 0\n",
        "  for j, (x, t) in enumerate(train_loader):\n",
        "    loss = criterion(model(x), t.to(device))\n",
        "    loss_train += loss.item()\n",
        "    optimizer.zero_grad()\n",
        "    loss.backward()\n",
        "    optimizer.step()\n",
        "  loss_train /= j+1\n",
        "  record_loss_train.append(loss_train)\n",
        "  if i%10 == 0:\n",
        "    print(\"Epoch:\", i, \"Loss_Train:\", loss_train)\n",
        "    predicted = list(input_data[0].reshape(-1))\n",
        "    model.eval()\n",
        "    with torch.no_grad():\n",
        "      for i in range(n_sample):\n",
        "        x = torch.tensor(predicted[-n_time:])\n",
        "        x = x.reshape(1, n_time, 1)\n",
        "        predicted.append(model(x)[0].item())\n",
        "    plt.plot(range(len(sin_x)), sin_x, label=\"Correct\")\n",
        "    plt.plot(range(len(predicted)), predicted, label=\"Predicted\")\n",
        "    plt.legend()\n",
        "    plt.show()"
      ],
      "metadata": {
        "id": "MvHxWDJuOaga"
      },
      "execution_count": 15,
      "outputs": []
    }
  ]
}