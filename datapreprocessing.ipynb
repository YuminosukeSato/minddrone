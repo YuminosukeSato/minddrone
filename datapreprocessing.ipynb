{
  "nbformat": 4,
  "nbformat_minor": 0,
  "metadata": {
    "colab": {
      "name": "datapreprocessing.ipynb",
      "provenance": [],
      "authorship_tag": "ABX9TyMGPvbB5jmF6w59CA82jAlb",
      "include_colab_link": true
    },
    "kernelspec": {
      "name": "python3",
      "display_name": "Python 3"
    },
    "language_info": {
      "name": "python"
    }
  },
  "cells": [
    {
      "cell_type": "markdown",
      "metadata": {
        "id": "view-in-github",
        "colab_type": "text"
      },
      "source": [
        "<a href=\"https://colab.research.google.com/github/YuminosukeSato/minddrone/blob/main/datapreprocessing.ipynb\" target=\"_parent\"><img src=\"https://colab.research.google.com/assets/colab-badge.svg\" alt=\"Open In Colab\"/></a>"
      ]
    },
    {
      "cell_type": "code",
      "execution_count": 5,
      "metadata": {
        "colab": {
          "base_uri": "https://localhost:8080/"
        },
        "id": "pBpNPcUaYca1",
        "outputId": "dc7ae75e-19c7-443b-f095-880d7ab8bfcf"
      },
      "outputs": [
        {
          "output_type": "stream",
          "name": "stdout",
          "text": [
            "35000\n",
            "(35000, 432)\n",
            "(700,)\n"
          ]
        }
      ],
      "source": [
        "import numpy as np\n",
        "import math\n",
        "from sklearn.manifold import TSNE\n",
        "from matplotlib import pyplot\n",
        "import pickle\n",
        "from sklearn.feature_extraction.text import TfidfVectorizer\n",
        "from sklearn.model_selection import train_test_split\n",
        "import pandas as pd\n",
        "def preprocessing(floatArray):\n",
        "    window = np.hamming(125)\n",
        "    w = np.empty(125)\n",
        "    d2 = np.empty((floatArray.shape[0],27*16))\n",
        "    for i in range(floatArray.shape[0]-125):\n",
        "        for j in range(15):\n",
        "            w = np.abs(np.fft.fftn(floatArray[i:i+125,j]*window))\n",
        "            d2[i,27*j:27*j+26] = np.log10(1 + w[4:30])\n",
        "    return d2\n",
        "def labeler(array): # ラベル定義\n",
        "  label = np.empty(100*7)\n",
        "  for i in range(100*7):\n",
        "    if i <= 100:\n",
        "      label[i] = 0 #0 is normal\n",
        "    elif i <= 100*2:\n",
        "      label[i] = 1 #1is forward\n",
        "    elif i <= 100*3:\n",
        "      label[i] = 2 # 2 is righet\n",
        "    elif i <= 100*4:\n",
        "      label[i] = 3 #\n",
        "    elif i <= 100*5:\n",
        "      label[i] = 4\n",
        "    elif i <= 100*6:\n",
        "      label[i] = 5\n",
        "    else:\n",
        "      label[i] = 6\n",
        "  return label\n",
        "if __name__ == \"__main__\":\n",
        "    data = np.loadtxt(\"/content/OpenBCI-RAW-2022-04-22_17-04-13.txt\",dtype='str',delimiter=\",\",skiprows=5)\n",
        "    b = data[:,1:17]\n",
        "    floatArray = b.astype(float)\n",
        "    d2 = np.empty((floatArray.shape[0],27*16))\n",
        "    d2 = preprocessing(floatArray)\n",
        "    ts = d2[125*10:125*7*40+125*10,:]\n",
        "    labels = np.array(labeler(ts))\n",
        "    print(280*125)\n",
        "    print(ts.shape)\n",
        "    print(labels.shape)\n",
        "    np.savetxt('data1.txt', ts)\n",
        "    np.savetxt('labels1.txt', labels)"
      ]
    }
  ]
}